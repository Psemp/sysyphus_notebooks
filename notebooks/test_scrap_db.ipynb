{
 "cells": [
  {
   "cell_type": "code",
   "execution_count": 1,
   "metadata": {},
   "outputs": [
    {
     "name": "stderr",
     "output_type": "stream",
     "text": [
      "/var/folders/3s/s8sp6jwn6qs02jfxbgjc7c_40000gn/T/ipykernel_22661/456046442.py:3: DeprecationWarning: \n",
      "Pyarrow will become a required dependency of pandas in the next major release of pandas (pandas 3.0),\n",
      "(to allow more performant data types, such as the Arrow string type, and better interoperability with other libraries)\n",
      "but was not found to be installed on your system.\n",
      "If this would cause problems for you,\n",
      "please provide us feedback at https://github.com/pandas-dev/pandas/issues/54466\n",
      "        \n",
      "  import pandas as pd\n"
     ]
    }
   ],
   "source": [
    "import os\n",
    "import sys\n",
    "import pandas as pd\n",
    "\n",
    "from matplotlib import pyplot as plt\n",
    "from dotenv import load_dotenv\n",
    "\n",
    "sys.path.append(\"../\")\n",
    "\n",
    "from scripts.get_db import get_metbull_data\n",
    "\n",
    "load_dotenv()\n",
    "plt.style.use('Solarize_Light2')\n",
    "\n",
    "# Setting default DPI, pulling it from dotenv if it exists, setting it on 100 if not\n",
    "try:\n",
    "    pc_dpi = int(os.getenv('DPI'))\n",
    "except TypeError:\n",
    "    pc_dpi = 100\n",
    "if pc_dpi is None:\n",
    "    pc_dpi = 100\n"
   ]
  },
  {
   "cell_type": "markdown",
   "metadata": {},
   "source": [
    "# Just checking if the data retrieval process works as intended"
   ]
  },
  {
   "cell_type": "code",
   "execution_count": 2,
   "metadata": {},
   "outputs": [
    {
     "name": "stdout",
     "output_type": "stream",
     "text": [
      "request time : 91.1319\n"
     ]
    }
   ],
   "source": [
    "save_folder = \"../datasets/\"\n",
    "\n",
    "df = get_metbull_data(saving_path=save_folder, give_df=True)\n"
   ]
  },
  {
   "cell_type": "code",
   "execution_count": 3,
   "metadata": {},
   "outputs": [],
   "source": [
    "# Both files are here, lets del the df and load the pickle :\n",
    "\n",
    "del df\n",
    "\n",
    "df = pd.read_pickle(filepath_or_buffer=\"../datasets/metbull_data.pkl\")\n"
   ]
  },
  {
   "cell_type": "code",
   "execution_count": 4,
   "metadata": {},
   "outputs": [
    {
     "data": {
      "text/html": [
       "<div>\n",
       "<style scoped>\n",
       "    .dataframe tbody tr th:only-of-type {\n",
       "        vertical-align: middle;\n",
       "    }\n",
       "\n",
       "    .dataframe tbody tr th {\n",
       "        vertical-align: top;\n",
       "    }\n",
       "\n",
       "    .dataframe thead th {\n",
       "        text-align: right;\n",
       "    }\n",
       "</style>\n",
       "<table border=\"1\" class=\"dataframe\">\n",
       "  <thead>\n",
       "    <tr style=\"text-align: right;\">\n",
       "      <th></th>\n",
       "      <th>name</th>\n",
       "      <th>year</th>\n",
       "      <th>country</th>\n",
       "      <th>type</th>\n",
       "      <th>mass</th>\n",
       "      <th>URL</th>\n",
       "    </tr>\n",
       "  </thead>\n",
       "  <tbody>\n",
       "    <tr>\n",
       "      <th>0</th>\n",
       "      <td>Denader 001</td>\n",
       "      <td>2022</td>\n",
       "      <td>Mali</td>\n",
       "      <td>H4-melt breccia</td>\n",
       "      <td>5330.0</td>\n",
       "      <td>https://www.lpi.usra.edu/meteor/metbull.php?co...</td>\n",
       "    </tr>\n",
       "    <tr>\n",
       "      <th>1</th>\n",
       "      <td>Hassi Khebi 001</td>\n",
       "      <td>2022</td>\n",
       "      <td>Algeria</td>\n",
       "      <td>C3-ung</td>\n",
       "      <td>500.0</td>\n",
       "      <td>https://www.lpi.usra.edu/meteor/metbull.php?co...</td>\n",
       "    </tr>\n",
       "    <tr>\n",
       "      <th>2</th>\n",
       "      <td>Qaen 001</td>\n",
       "      <td>2016</td>\n",
       "      <td>Iran</td>\n",
       "      <td>L6</td>\n",
       "      <td>21000.0</td>\n",
       "      <td>https://www.lpi.usra.edu/meteor/metbull.php?co...</td>\n",
       "    </tr>\n",
       "    <tr>\n",
       "      <th>3</th>\n",
       "      <td>Aachen</td>\n",
       "      <td>1880</td>\n",
       "      <td>Germany</td>\n",
       "      <td>L5</td>\n",
       "      <td>21.0</td>\n",
       "      <td>https://www.lpi.usra.edu/meteor/metbull.php?co...</td>\n",
       "    </tr>\n",
       "    <tr>\n",
       "      <th>4</th>\n",
       "      <td>Aammiq</td>\n",
       "      <td>2000</td>\n",
       "      <td>Lebanon</td>\n",
       "      <td>H6</td>\n",
       "      <td>596.0</td>\n",
       "      <td>https://www.lpi.usra.edu/meteor/metbull.php?co...</td>\n",
       "    </tr>\n",
       "  </tbody>\n",
       "</table>\n",
       "</div>"
      ],
      "text/plain": [
       "              name  year  country             type     mass  \\\n",
       "0      Denader 001  2022     Mali  H4-melt breccia   5330.0   \n",
       "1  Hassi Khebi 001  2022  Algeria           C3-ung    500.0   \n",
       "2         Qaen 001  2016     Iran               L6  21000.0   \n",
       "3           Aachen  1880  Germany               L5     21.0   \n",
       "4           Aammiq  2000  Lebanon               H6    596.0   \n",
       "\n",
       "                                                 URL  \n",
       "0  https://www.lpi.usra.edu/meteor/metbull.php?co...  \n",
       "1  https://www.lpi.usra.edu/meteor/metbull.php?co...  \n",
       "2  https://www.lpi.usra.edu/meteor/metbull.php?co...  \n",
       "3  https://www.lpi.usra.edu/meteor/metbull.php?co...  \n",
       "4  https://www.lpi.usra.edu/meteor/metbull.php?co...  "
      ]
     },
     "execution_count": 4,
     "metadata": {},
     "output_type": "execute_result"
    }
   ],
   "source": [
    "df.head()\n"
   ]
  },
  {
   "cell_type": "code",
   "execution_count": 5,
   "metadata": {},
   "outputs": [
    {
     "data": {
      "text/plain": [
       "name        object\n",
       "year         Int64\n",
       "country     object\n",
       "type        object\n",
       "mass       float64\n",
       "URL         object\n",
       "dtype: object"
      ]
     },
     "execution_count": 5,
     "metadata": {},
     "output_type": "execute_result"
    }
   ],
   "source": [
    "df.dtypes\n"
   ]
  },
  {
   "cell_type": "markdown",
   "metadata": {},
   "source": [
    "# Ok so the loading logic works, now lets get that working on github actions for automated retrieval and updates"
   ]
  }
 ],
 "metadata": {
  "kernelspec": {
   "display_name": "env",
   "language": "python",
   "name": "python3"
  },
  "language_info": {
   "codemirror_mode": {
    "name": "ipython",
    "version": 3
   },
   "file_extension": ".py",
   "mimetype": "text/x-python",
   "name": "python",
   "nbconvert_exporter": "python",
   "pygments_lexer": "ipython3",
   "version": "3.10.4"
  }
 },
 "nbformat": 4,
 "nbformat_minor": 2
}
